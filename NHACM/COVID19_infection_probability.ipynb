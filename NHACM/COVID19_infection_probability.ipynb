{
 "cells": [
  {
   "cell_type": "code",
   "execution_count": 22,
   "metadata": {},
   "outputs": [],
   "source": [
    "from sklearn.ensemble import RandomForestRegressor\n",
    "from sklearn.model_selection import train_test_split\n",
    "import seaborn as sns"
   ]
  },
  {
   "cell_type": "code",
   "execution_count": 2,
   "metadata": {},
   "outputs": [],
   "source": [
    "from __future__ import absolute_import, division, print_function, unicode_literals\n",
    "import numpy as np\n",
    "import pandas as pd\n",
    "import os"
   ]
  },
  {
   "cell_type": "code",
   "execution_count": 4,
   "metadata": {},
   "outputs": [
    {
     "data": {
      "text/html": [
       "<div>\n",
       "<style scoped>\n",
       "    .dataframe tbody tr th:only-of-type {\n",
       "        vertical-align: middle;\n",
       "    }\n",
       "\n",
       "    .dataframe tbody tr th {\n",
       "        vertical-align: top;\n",
       "    }\n",
       "\n",
       "    .dataframe thead th {\n",
       "        text-align: right;\n",
       "    }\n",
       "</style>\n",
       "<table border=\"1\" class=\"dataframe\">\n",
       "  <thead>\n",
       "    <tr style=\"text-align: right;\">\n",
       "      <th></th>\n",
       "      <th>people_ID</th>\n",
       "      <th>Region</th>\n",
       "      <th>Gender</th>\n",
       "      <th>Occupation</th>\n",
       "      <th>Mode_transport</th>\n",
       "      <th>comorbidity</th>\n",
       "      <th>Age</th>\n",
       "      <th>Insurance</th>\n",
       "      <th>salary</th>\n",
       "      <th>FT/month</th>\n",
       "      <th>Infect_Prob</th>\n",
       "    </tr>\n",
       "  </thead>\n",
       "  <tbody>\n",
       "    <tr>\n",
       "      <th>0</th>\n",
       "      <td>1</td>\n",
       "      <td>Bhubaneshwar</td>\n",
       "      <td>Female</td>\n",
       "      <td>Farmer</td>\n",
       "      <td>Public</td>\n",
       "      <td>Hypertension</td>\n",
       "      <td>68</td>\n",
       "      <td>3600000.0</td>\n",
       "      <td>1300000</td>\n",
       "      <td>2.0</td>\n",
       "      <td>49.135010</td>\n",
       "    </tr>\n",
       "    <tr>\n",
       "      <th>1</th>\n",
       "      <td>2</td>\n",
       "      <td>Bhubaneshwar</td>\n",
       "      <td>Female</td>\n",
       "      <td>Farmer</td>\n",
       "      <td>Walk</td>\n",
       "      <td>Diabetes</td>\n",
       "      <td>64</td>\n",
       "      <td>1600000.0</td>\n",
       "      <td>400000</td>\n",
       "      <td>1.0</td>\n",
       "      <td>51.147880</td>\n",
       "    </tr>\n",
       "    <tr>\n",
       "      <th>2</th>\n",
       "      <td>3</td>\n",
       "      <td>Bhubaneshwar</td>\n",
       "      <td>Female</td>\n",
       "      <td>Cleaner</td>\n",
       "      <td>Public</td>\n",
       "      <td>None</td>\n",
       "      <td>19</td>\n",
       "      <td>3400000.0</td>\n",
       "      <td>900000</td>\n",
       "      <td>1.0</td>\n",
       "      <td>73.224000</td>\n",
       "    </tr>\n",
       "    <tr>\n",
       "      <th>3</th>\n",
       "      <td>4</td>\n",
       "      <td>Bhubaneshwar</td>\n",
       "      <td>Female</td>\n",
       "      <td>Driver</td>\n",
       "      <td>Car</td>\n",
       "      <td>Coronary Heart Disease</td>\n",
       "      <td>33</td>\n",
       "      <td>700000.0</td>\n",
       "      <td>2300000</td>\n",
       "      <td>1.0</td>\n",
       "      <td>48.779225</td>\n",
       "    </tr>\n",
       "    <tr>\n",
       "      <th>4</th>\n",
       "      <td>5</td>\n",
       "      <td>Bhubaneshwar</td>\n",
       "      <td>Female</td>\n",
       "      <td>Manufacturing</td>\n",
       "      <td>Car</td>\n",
       "      <td>Diabetes</td>\n",
       "      <td>23</td>\n",
       "      <td>3200000.0</td>\n",
       "      <td>1100000</td>\n",
       "      <td>1.0</td>\n",
       "      <td>87.868800</td>\n",
       "    </tr>\n",
       "  </tbody>\n",
       "</table>\n",
       "</div>"
      ],
      "text/plain": [
       "   people_ID        Region  Gender     Occupation Mode_transport  \\\n",
       "0          1  Bhubaneshwar  Female         Farmer         Public   \n",
       "1          2  Bhubaneshwar  Female         Farmer           Walk   \n",
       "2          3  Bhubaneshwar  Female        Cleaner         Public   \n",
       "3          4  Bhubaneshwar  Female         Driver            Car   \n",
       "4          5  Bhubaneshwar  Female  Manufacturing            Car   \n",
       "\n",
       "              comorbidity  Age  Insurance   salary  FT/month  Infect_Prob  \n",
       "0            Hypertension   68  3600000.0  1300000       2.0    49.135010  \n",
       "1                Diabetes   64  1600000.0   400000       1.0    51.147880  \n",
       "2                    None   19  3400000.0   900000       1.0    73.224000  \n",
       "3  Coronary Heart Disease   33   700000.0  2300000       1.0    48.779225  \n",
       "4                Diabetes   23  3200000.0  1100000       1.0    87.868800  "
      ]
     },
     "execution_count": 4,
     "metadata": {},
     "output_type": "execute_result"
    }
   ],
   "source": [
    "train = pd.read_csv(\"data/Train_dataset.csv\")\n",
    "train.head()"
   ]
  },
  {
   "cell_type": "code",
   "execution_count": 5,
   "metadata": {},
   "outputs": [
    {
     "data": {
      "text/plain": [
       "(10714, 11)"
      ]
     },
     "execution_count": 5,
     "metadata": {},
     "output_type": "execute_result"
    }
   ],
   "source": [
    "train.shape"
   ]
  },
  {
   "cell_type": "code",
   "execution_count": 6,
   "metadata": {},
   "outputs": [],
   "source": [
    "train_1 = train.dropna()"
   ]
  },
  {
   "cell_type": "code",
   "execution_count": 7,
   "metadata": {},
   "outputs": [
    {
     "data": {
      "text/plain": [
       "(8710, 11)"
      ]
     },
     "execution_count": 7,
     "metadata": {},
     "output_type": "execute_result"
    }
   ],
   "source": [
    "train_1.shape"
   ]
  },
  {
   "cell_type": "code",
   "execution_count": 9,
   "metadata": {},
   "outputs": [
    {
     "data": {
      "text/html": [
       "<div>\n",
       "<style scoped>\n",
       "    .dataframe tbody tr th:only-of-type {\n",
       "        vertical-align: middle;\n",
       "    }\n",
       "\n",
       "    .dataframe tbody tr th {\n",
       "        vertical-align: top;\n",
       "    }\n",
       "\n",
       "    .dataframe thead th {\n",
       "        text-align: right;\n",
       "    }\n",
       "</style>\n",
       "<table border=\"1\" class=\"dataframe\">\n",
       "  <thead>\n",
       "    <tr style=\"text-align: right;\">\n",
       "      <th></th>\n",
       "      <th>people_ID</th>\n",
       "      <th>Region</th>\n",
       "      <th>Gender</th>\n",
       "      <th>Occupation</th>\n",
       "      <th>Mode_transport</th>\n",
       "      <th>comorbidity</th>\n",
       "      <th>Age</th>\n",
       "      <th>Insurance</th>\n",
       "      <th>salary</th>\n",
       "      <th>FT/month</th>\n",
       "    </tr>\n",
       "  </thead>\n",
       "  <tbody>\n",
       "    <tr>\n",
       "      <th>0</th>\n",
       "      <td>5942</td>\n",
       "      <td>Delhi</td>\n",
       "      <td>Female</td>\n",
       "      <td>Driver</td>\n",
       "      <td>Public</td>\n",
       "      <td>Diabetes</td>\n",
       "      <td>52</td>\n",
       "      <td>3900000</td>\n",
       "      <td>1300000</td>\n",
       "      <td>1</td>\n",
       "    </tr>\n",
       "    <tr>\n",
       "      <th>1</th>\n",
       "      <td>18664</td>\n",
       "      <td>Delhi</td>\n",
       "      <td>Male</td>\n",
       "      <td>Legal</td>\n",
       "      <td>Walk</td>\n",
       "      <td>Diabetes</td>\n",
       "      <td>53</td>\n",
       "      <td>1800000</td>\n",
       "      <td>1300000</td>\n",
       "      <td>1</td>\n",
       "    </tr>\n",
       "    <tr>\n",
       "      <th>2</th>\n",
       "      <td>5603</td>\n",
       "      <td>Delhi</td>\n",
       "      <td>Female</td>\n",
       "      <td>Sales</td>\n",
       "      <td>Car</td>\n",
       "      <td>Diabetes</td>\n",
       "      <td>35</td>\n",
       "      <td>5000000</td>\n",
       "      <td>2000000</td>\n",
       "      <td>2</td>\n",
       "    </tr>\n",
       "    <tr>\n",
       "      <th>3</th>\n",
       "      <td>5649</td>\n",
       "      <td>Delhi</td>\n",
       "      <td>Female</td>\n",
       "      <td>Sales</td>\n",
       "      <td>Car</td>\n",
       "      <td>None</td>\n",
       "      <td>31</td>\n",
       "      <td>3100000</td>\n",
       "      <td>600000</td>\n",
       "      <td>2</td>\n",
       "    </tr>\n",
       "    <tr>\n",
       "      <th>4</th>\n",
       "      <td>5099</td>\n",
       "      <td>Delhi</td>\n",
       "      <td>Female</td>\n",
       "      <td>Business</td>\n",
       "      <td>Car</td>\n",
       "      <td>Diabetes</td>\n",
       "      <td>51</td>\n",
       "      <td>2300000</td>\n",
       "      <td>1500000</td>\n",
       "      <td>1</td>\n",
       "    </tr>\n",
       "  </tbody>\n",
       "</table>\n",
       "</div>"
      ],
      "text/plain": [
       "   people_ID Region  Gender Occupation Mode_transport comorbidity  Age  \\\n",
       "0       5942  Delhi  Female     Driver         Public    Diabetes   52   \n",
       "1      18664  Delhi    Male      Legal           Walk    Diabetes   53   \n",
       "2       5603  Delhi  Female      Sales            Car    Diabetes   35   \n",
       "3       5649  Delhi  Female      Sales            Car        None   31   \n",
       "4       5099  Delhi  Female   Business            Car    Diabetes   51   \n",
       "\n",
       "   Insurance   salary  FT/month  \n",
       "0    3900000  1300000         1  \n",
       "1    1800000  1300000         1  \n",
       "2    5000000  2000000         2  \n",
       "3    3100000   600000         2  \n",
       "4    2300000  1500000         1  "
      ]
     },
     "execution_count": 9,
     "metadata": {},
     "output_type": "execute_result"
    }
   ],
   "source": [
    "test = pd.read_csv(\"data/Test_dataset.csv\")\n",
    "test.head()"
   ]
  },
  {
   "cell_type": "code",
   "execution_count": 10,
   "metadata": {},
   "outputs": [
    {
     "data": {
      "text/plain": [
       "(14498, 10)"
      ]
     },
     "execution_count": 10,
     "metadata": {},
     "output_type": "execute_result"
    }
   ],
   "source": [
    "test_1 = test.dropna()\n",
    "test_1.shape"
   ]
  },
  {
   "cell_type": "code",
   "execution_count": 11,
   "metadata": {},
   "outputs": [],
   "source": [
    "from sklearn import preprocessing\n",
    "def cleanData(dataframe):\n",
    "        df2 = dataframe\n",
    "        df2 = df2.drop(['people_ID','Insurance','salary'], axis = 1)\n",
    "        le = preprocessing.LabelEncoder()\n",
    "        df2.Region = le.fit_transform(df2.Region.astype(str))\n",
    "        df2.Gender = le.fit_transform(df2.Gender.astype(str))\n",
    "        df2.Occupation = le.fit_transform(df2.Occupation.astype(str))\n",
    "        df2.Mode_transport = le.fit_transform(df2.Mode_transport.astype(str))\n",
    "        df2.comorbidity = le.fit_transform(df2.comorbidity.astype(str))\n",
    "        df2.Region = le.fit_transform(df2.Region)\n",
    "        df2.Gender = le.fit_transform(df2.Gender)\n",
    "        df2.Occupation = le.fit_transform(df2.Occupation)\n",
    "        df2.Mode_transport = le.fit_transform(df2.Mode_transport)\n",
    "        df2.comorbidity = le.fit_transform(df2.comorbidity)\n",
    "        return df2"
   ]
  },
  {
   "cell_type": "code",
   "execution_count": 12,
   "metadata": {},
   "outputs": [
    {
     "data": {
      "text/html": [
       "<div>\n",
       "<style scoped>\n",
       "    .dataframe tbody tr th:only-of-type {\n",
       "        vertical-align: middle;\n",
       "    }\n",
       "\n",
       "    .dataframe tbody tr th {\n",
       "        vertical-align: top;\n",
       "    }\n",
       "\n",
       "    .dataframe thead th {\n",
       "        text-align: right;\n",
       "    }\n",
       "</style>\n",
       "<table border=\"1\" class=\"dataframe\">\n",
       "  <thead>\n",
       "    <tr style=\"text-align: right;\">\n",
       "      <th></th>\n",
       "      <th>Region</th>\n",
       "      <th>Gender</th>\n",
       "      <th>Occupation</th>\n",
       "      <th>Mode_transport</th>\n",
       "      <th>comorbidity</th>\n",
       "      <th>Age</th>\n",
       "      <th>FT/month</th>\n",
       "      <th>Infect_Prob</th>\n",
       "    </tr>\n",
       "  </thead>\n",
       "  <tbody>\n",
       "    <tr>\n",
       "      <th>0</th>\n",
       "      <td>1</td>\n",
       "      <td>0</td>\n",
       "      <td>4</td>\n",
       "      <td>1</td>\n",
       "      <td>2</td>\n",
       "      <td>68</td>\n",
       "      <td>2.0</td>\n",
       "      <td>49.135010</td>\n",
       "    </tr>\n",
       "    <tr>\n",
       "      <th>1</th>\n",
       "      <td>1</td>\n",
       "      <td>0</td>\n",
       "      <td>4</td>\n",
       "      <td>2</td>\n",
       "      <td>1</td>\n",
       "      <td>64</td>\n",
       "      <td>1.0</td>\n",
       "      <td>51.147880</td>\n",
       "    </tr>\n",
       "    <tr>\n",
       "      <th>2</th>\n",
       "      <td>1</td>\n",
       "      <td>0</td>\n",
       "      <td>1</td>\n",
       "      <td>1</td>\n",
       "      <td>3</td>\n",
       "      <td>19</td>\n",
       "      <td>1.0</td>\n",
       "      <td>73.224000</td>\n",
       "    </tr>\n",
       "    <tr>\n",
       "      <th>3</th>\n",
       "      <td>1</td>\n",
       "      <td>0</td>\n",
       "      <td>3</td>\n",
       "      <td>0</td>\n",
       "      <td>0</td>\n",
       "      <td>33</td>\n",
       "      <td>1.0</td>\n",
       "      <td>48.779225</td>\n",
       "    </tr>\n",
       "    <tr>\n",
       "      <th>4</th>\n",
       "      <td>1</td>\n",
       "      <td>0</td>\n",
       "      <td>6</td>\n",
       "      <td>0</td>\n",
       "      <td>1</td>\n",
       "      <td>23</td>\n",
       "      <td>1.0</td>\n",
       "      <td>87.868800</td>\n",
       "    </tr>\n",
       "  </tbody>\n",
       "</table>\n",
       "</div>"
      ],
      "text/plain": [
       "   Region  Gender  Occupation  Mode_transport  comorbidity  Age  FT/month  \\\n",
       "0       1       0           4               1            2   68       2.0   \n",
       "1       1       0           4               2            1   64       1.0   \n",
       "2       1       0           1               1            3   19       1.0   \n",
       "3       1       0           3               0            0   33       1.0   \n",
       "4       1       0           6               0            1   23       1.0   \n",
       "\n",
       "   Infect_Prob  \n",
       "0    49.135010  \n",
       "1    51.147880  \n",
       "2    73.224000  \n",
       "3    48.779225  \n",
       "4    87.868800  "
      ]
     },
     "execution_count": 12,
     "metadata": {},
     "output_type": "execute_result"
    }
   ],
   "source": [
    "clean_train = cleanData(train_1)\n",
    "clean_train.head()"
   ]
  },
  {
   "cell_type": "code",
   "execution_count": 13,
   "metadata": {},
   "outputs": [],
   "source": [
    "clean_test = cleanData(test_1)"
   ]
  },
  {
   "cell_type": "code",
   "execution_count": 14,
   "metadata": {},
   "outputs": [
    {
     "data": {
      "text/plain": [
       "Index(['Region', 'Gender', 'Occupation', 'Mode_transport', 'comorbidity',\n",
       "       'Age', 'FT/month'],\n",
       "      dtype='object')"
      ]
     },
     "execution_count": 14,
     "metadata": {},
     "output_type": "execute_result"
    }
   ],
   "source": [
    "clean_test.columns"
   ]
  },
  {
   "cell_type": "code",
   "execution_count": 15,
   "metadata": {},
   "outputs": [],
   "source": [
    "x = clean_train.drop(['Infect_Prob'], axis=1)\n",
    "y = clean_train.Infect_Prob\n",
    "X_train, X_test, y_train, y_test = train_test_split(x, y, test_size=0.2, random_state=42)"
   ]
  },
  {
   "cell_type": "code",
   "execution_count": 16,
   "metadata": {},
   "outputs": [
    {
     "data": {
      "text/plain": [
       "0    49.135010\n",
       "1    51.147880\n",
       "2    73.224000\n",
       "3    48.779225\n",
       "4    87.868800\n",
       "Name: Infect_Prob, dtype: float64"
      ]
     },
     "execution_count": 16,
     "metadata": {},
     "output_type": "execute_result"
    }
   ],
   "source": [
    "y.head()"
   ]
  },
  {
   "cell_type": "code",
   "execution_count": 23,
   "metadata": {},
   "outputs": [
    {
     "data": {
      "text/plain": [
       "RandomForestRegressor(n_estimators=1000, random_state=42)"
      ]
     },
     "execution_count": 23,
     "metadata": {},
     "output_type": "execute_result"
    }
   ],
   "source": [
    "rf = RandomForestRegressor(n_estimators = 1000, random_state = 42)\n",
    "rf.fit(X_train, y_train)"
   ]
  },
  {
   "cell_type": "code",
   "execution_count": 18,
   "metadata": {},
   "outputs": [],
   "source": [
    "from sklearn.metrics import accuracy_score\n",
    "from sklearn.metrics import confusion_matrix"
   ]
  },
  {
   "cell_type": "code",
   "execution_count": 24,
   "metadata": {},
   "outputs": [],
   "source": [
    "y_pred= list(rf.predict(X_test))"
   ]
  },
  {
   "cell_type": "code",
   "execution_count": 26,
   "metadata": {},
   "outputs": [
    {
     "name": "stdout",
     "output_type": "stream",
     "text": [
      "Mean Absolute Error: 4.43 degrees.\n"
     ]
    }
   ],
   "source": [
    "errors = abs(y_pred - y_test)\n",
    "print('Mean Absolute Error:', round(np.mean(errors), 2), 'degrees.')"
   ]
  },
  {
   "cell_type": "code",
   "execution_count": 27,
   "metadata": {},
   "outputs": [
    {
     "name": "stdout",
     "output_type": "stream",
     "text": [
      "Accuracy: 91.45 %.\n"
     ]
    }
   ],
   "source": [
    "mape = 100 * (errors / y_test)\n",
    "accuracy = 100 - np.mean(mape)\n",
    "print('Accuracy:', round(accuracy, 2), '%.')"
   ]
  },
  {
   "cell_type": "code",
   "execution_count": 32,
   "metadata": {},
   "outputs": [],
   "source": [
    "test_data = [[5942,'Delhi','Female','Driver','Public','Diabetes',52,3900000,1300000,1]]\n",
    "test_dataframe = pd.DataFrame(test_data, columns =['people_ID','Region','Gender','Occupation','Mode_transport','comorbidity','Age','Insurance','salary','FT/month'], dtype = float) \n",
    "testData = list(rf.predict(cleanData(test_dataframe)))"
   ]
  },
  {
   "cell_type": "code",
   "execution_count": 33,
   "metadata": {},
   "outputs": [
    {
     "name": "stdout",
     "output_type": "stream",
     "text": [
      "[50.45465032897431]\n"
     ]
    }
   ],
   "source": [
    "print(testData)"
   ]
  },
  {
   "cell_type": "code",
   "execution_count": 34,
   "metadata": {},
   "outputs": [],
   "source": [
    "def priority(testData):\n",
    "    if testData[0] < 30 :\n",
    "        return 3\n",
    "    elif 30 < testData[0] < 70 :\n",
    "        return 2\n",
    "    else :\n",
    "        return 1"
   ]
  },
  {
   "cell_type": "code",
   "execution_count": 36,
   "metadata": {},
   "outputs": [
    {
     "name": "stdout",
     "output_type": "stream",
     "text": [
      "Your priority is : 2\n"
     ]
    }
   ],
   "source": [
    "print(\"Your priority is :\" ,priority(testData))"
   ]
  },
  {
   "cell_type": "code",
   "execution_count": null,
   "metadata": {},
   "outputs": [],
   "source": []
  }
 ],
 "metadata": {
  "kernelspec": {
   "display_name": "Python 3",
   "language": "python",
   "name": "python3"
  },
  "language_info": {
   "codemirror_mode": {
    "name": "ipython",
    "version": 3
   },
   "file_extension": ".py",
   "mimetype": "text/x-python",
   "name": "python",
   "nbconvert_exporter": "python",
   "pygments_lexer": "ipython3",
   "version": "3.7.9"
  }
 },
 "nbformat": 4,
 "nbformat_minor": 4
}
